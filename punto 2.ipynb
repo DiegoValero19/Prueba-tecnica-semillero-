{
 "cells": [
  {
   "cell_type": "code",
   "execution_count": 4,
   "metadata": {},
   "outputs": [],
   "source": [
    "def es_primo(numero):\n",
    "    if numero <= 1:\n",
    "        return False\n",
    "    for i in range(2, int(numero**0.5) + 1):\n",
    "        if numero % i == 0:\n",
    "            return False\n",
    "    return True\n"
   ]
  },
  {
   "cell_type": "code",
   "execution_count": 5,
   "metadata": {},
   "outputs": [],
   "source": [
    "def imprimir_numeros(n):\n",
    "    pares = []\n",
    "    impares = []\n",
    "    primos = []\n",
    "    numero = 1\n",
    "    while len(pares) < n or len(impares) < n or len(primos) < n:\n",
    "        if len(pares) < n:\n",
    "            if numero % 2 == 0:\n",
    "                pares.append(numero)\n",
    "        if len(impares) < n:\n",
    "            if numero % 2 != 0:\n",
    "                impares.append(numero)\n",
    "        if len(primos) < n:\n",
    "            if es_primo(numero):\n",
    "                primos.append(numero)\n",
    "        numero += 1\n",
    "\n",
    "    print(f\"Los primeros {n} números pares son: {pares}\")\n",
    "    print(f\"Los primeros {n} números impares son: {impares}\")\n",
    "    print(f\"Los primeros {n} números primos son: {primos}\")\n"
   ]
  },
  {
   "cell_type": "code",
   "execution_count": 6,
   "metadata": {},
   "outputs": [
    {
     "name": "stdout",
     "output_type": "stream",
     "text": [
      "Los primeros 10 números pares son: [2, 4, 6, 8, 10, 12, 14, 16, 18, 20]\n",
      "Los primeros 10 números impares son: [1, 3, 5, 7, 9, 11, 13, 15, 17, 19]\n",
      "Los primeros 10 números primos son: [2, 3, 5, 7, 11, 13, 17, 19, 23, 29]\n"
     ]
    }
   ],
   "source": [
    "if __name__ == \"__main__\":\n",
    "    n = int(input(\"Ingrese un número entero positivo: \"))\n",
    "    imprimir_numeros(n)\n"
   ]
  }
 ],
 "metadata": {
  "kernelspec": {
   "display_name": "Python 3",
   "language": "python",
   "name": "python3"
  },
  "language_info": {
   "codemirror_mode": {
    "name": "ipython",
    "version": 3
   },
   "file_extension": ".py",
   "mimetype": "text/x-python",
   "name": "python",
   "nbconvert_exporter": "python",
   "pygments_lexer": "ipython3",
   "version": "3.12.2"
  }
 },
 "nbformat": 4,
 "nbformat_minor": 2
}
